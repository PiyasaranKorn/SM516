{
 "cells": [
  {
   "cell_type": "markdown",
   "metadata": {},
   "source": [
    "$$\n",
    "\\begin{align*}\n",
    "\\frac{(\\lambda^*_n-\\lambda^*_1)}{(\\lambda^*_n+\\lambda^*_1)}\n",
    "\\end{align*}\n",
    "$$"
   ]
  },
  {
   "cell_type": "code",
   "execution_count": null,
   "metadata": {},
   "outputs": [],
   "source": []
  },
  {
   "cell_type": "markdown",
   "metadata": {},
   "source": [
    "$$\n",
    "\\large\\begin{align*}\n",
    "\\frac{(\\lambda^*_n-\\lambda^*_1)}{(\\lambda^*_n+\\lambda^*_1)}\n",
    "\\end{align*}\n",
    "$$<br>\n",
    "$$\n",
    "\\Large\\begin{align*}\n",
    "\\frac{(\\lambda^*_n-\\lambda^*_1)}{(\\lambda^*_n+\\lambda^*_1)}\n",
    "\\end{align*}\n",
    "$$"
   ]
  },
  {
   "cell_type": "code",
   "execution_count": null,
   "metadata": {},
   "outputs": [],
   "source": []
  },
  {
   "cell_type": "markdown",
   "metadata": {},
   "source": [
    "$$\n",
    "\\begin{align*}\n",
    "\\large\\frac{(\\lambda^*_n-\\lambda^*_1)}{(\\lambda^*_n+\\lambda^*_1)}\n",
    "\\end{align*}\n",
    "$$<br>\n",
    "$$\n",
    "\\begin{align*}\n",
    "\\Large\\frac{(\\lambda^*_n-\\lambda^*_1)}{(\\lambda^*_n+\\lambda^*_1)}\n",
    "\\end{align*}\n",
    "$$"
   ]
  },
  {
   "cell_type": "code",
   "execution_count": null,
   "metadata": {},
   "outputs": [],
   "source": []
  },
  {
   "cell_type": "markdown",
   "metadata": {},
   "source": [
    "$$\n",
    "\\huge\\begin{align*}\n",
    "\\frac{(\\lambda^*_n-\\lambda^*_1)}{(\\lambda^*_n+\\lambda^*_1)}\n",
    "\\end{align*}\n",
    "$$<br>\n",
    "$$\n",
    "\\Huge\\begin{align*}\n",
    "\\frac{(\\lambda^*_n-\\lambda^*_1)}{(\\lambda^*_n+\\lambda^*_1)}\n",
    "\\end{align*}\n",
    "$$"
   ]
  },
  {
   "cell_type": "code",
   "execution_count": null,
   "metadata": {},
   "outputs": [],
   "source": []
  }
 ],
 "metadata": {
  "kernelspec": {
   "display_name": "Python 3",
   "language": "python",
   "name": "python3"
  },
  "language_info": {
   "codemirror_mode": {
    "name": "ipython",
    "version": 3
   },
   "file_extension": ".py",
   "mimetype": "text/x-python",
   "name": "python",
   "nbconvert_exporter": "python",
   "pygments_lexer": "ipython3",
   "version": "3.8.1"
  }
 },
 "nbformat": 4,
 "nbformat_minor": 2
}
