{
 "cells": [
  {
   "cell_type": "markdown",
   "metadata": {},
   "source": [
    "### Quasi Newton Methods<br>\n",
    "\n",
    "$\\qquad$One problem with Newton's method is the difficulty of evaluating the Hessian $G^{(k)}$. Quasi Newton methods, which don't require Hessian evaluation, are extension of the one-dimension Secant method.<br>\n",
    "$\\qquad$In the one-dimensional secant method, the second derivative is approximated by difference in the first derivative,<br>\n",
    "$$f''(x^{(k)})=\\frac{f'(x^k)-f'(x^{k-1})}{x^k-x^{k-1}}\\quad\\Rightarrow\\quad G(x^{(k)})=\\frac{g(x^k)-g(x^{k-1})}{x^k-x^{k-1}}\\\\\n",
    "    \\text{when}\\;\\;x^k,\\;x^{k-1}\\in\\mathbb R.\\hspace{11cm}$$<br>\n",
    "\n",
    "$\\qquad$In the multivariable case the Hessian, hence any approximations to it are $nxn$ symmetric matrices.<br>\n",
    "It is possible to use either<br>\n",
    "i) an approximate $B^{(k)}$ to $G(x^k)=\\nabla^2f(x^k)$ or<br>\n",
    "ii) an approximate $H^{(k)}$ to $G^{-1}(x^k)=\\nabla^2f^{-1}(x^k)$<br>\n",
    "$\\qquad$An importance feature of Quasi Newton methods is that the approximation $B^{(k)}$ or $H^{(k)}$ are positive definite.<br>"
   ]
  },
  {
   "cell_type": "markdown",
   "metadata": {},
   "source": [
    "Let $g^{(k)}\\equiv\\nabla f(x^k),$ then a convex quadratic model<br>\n",
    "$$q_k(\\bar d)=f^{(k)}+d^Tg^{(k)}+\\frac{1}{2}d^TB^{(k)}d$$<br>\n",
    "produces a search direction $d^{(k)}$ as the solution of the linear system.<br>\n",
    "$$\\hspace{6.5cm}B^{(k)}d=-g^{(k)}\\hspace{4cm}----\\;(2)$$<br>\n",
    "\n",
    "Let $H^{(k)}$ be the inverse Hessian, then eq. $(2)$ is rewritten as<br>\n",
    "$$\\bar d=-H^{(k)}g^{(k)}$$<br>"
   ]
  },
  {
   "cell_type": "markdown",
   "metadata": {},
   "source": [
    "#### $\\underline{Algorithm}\\quad$ (Quasi Newton Methods)\n",
    "1. $\\underline{Initialization}:\\;\\;$ Given a starting point $x^{(1)}$<br>\n",
    "$\\quad$a symmetric posotive definite initial Hessian approximate $B^{(1)},$ a toterance $\\in_d\\;>\\;0$ and $\\in_f\\;>\\;0,$ and a maximum number of iteration $k_{max},$ set $k=1$<br><br>\n",
    "2. $\\underline{Calculate\\;the\\;objective\\;value}$<br>\n",
    "$\\quad f^{(k)}=f(x^k)\\quad$ and $\\quad$ the gradient $\\;g^{(k)}=\\nabla f(x^k)$<br><br>\n",
    "3. Do loop<br>\n",
    "    a) $\\underline{Search\\;direction}:$ Calculate the quasi-Newton direction by solving<br>\n",
    "    $\\qquad B^{(k)}d^{(k)}=-g^{(k)}$<br>\n",
    "    b) $\\underline{Line\\;search}:$ Calculate an exact or approximate minimizer $\\alpha^{(k)}$ of $f(x^k+\\alpha d^k),$ starting with $\\alpha^{(k)}=1,$ to find<br>\n",
    "    $\\qquad$i) New point<br>\n",
    "      $\\hspace{20mm} x^{k+1}=x^k+\\alpha^kd^k$<br>\n",
    "    $\\qquad$ii) New function value and gradient<br>\n",
    "      $\\hspace{20mm} f^{(k+1)}=f(x^{(k+1)}),\\;\\;g^{k+1}=\\nabla f(x^{k+1})$<br>\n",
    "    c) $\\underline{Update\\;Hessian\\;approximate}:$<br>\n",
    "    $\\qquad B^{k+1}=B^k+E^k\\quad$ (for $E^k$ see the next topic)<br><br>\n",
    "4. $\\underline{Untile}$<br>\n",
    "$\\quad k\\;>\\;k_{max}$ or $||g^k||\\le\\in_g$ or $||f^k-f^{k+1}\\le\\in_f||$<br><br>\n",
    "\n",
    "$\\qquad$The major advantage of quasi-Newton methods over Newton's method is that only the function value and gradient must be calculated.<br>\n",
    "If $B^{(k)}$ is positive definite and $g^{(k)}\\ne0$ then $d^{(k)}$ is a descent direction, so the line search can produce a $\\alpha^{(k)}\\;>\\;0$ with $f^{(k+1)}\\;<\\;f^{(k)}.$<br><br>"
   ]
  },
  {
   "cell_type": "markdown",
   "metadata": {},
   "source": [
    "$\\normalsize\\underline{Update\\;Hessian\\;approximation}$<br><br>\n",
    "$\\qquad$The question is Algorithm of quasi-Newton method is how to efficiently update the Hessian approximate $B^{(k)}.$<br>\n",
    "\n",
    "If $f\\in C^2,$ Taylor series expansion of the gradient about $x^{(k)}$ gives<br>\n",
    "$$\\nabla f(x^{k+1})\\approx\\nabla f(x^k)+\\nabla^2f(x^k)(x^{k+1}-x^k) \\\\\n",
    "\\text{or} \\\\\n",
    "g(x^{k+1})\\approx g(x^k)+\\nabla g(x^k)(x^{k+1}-x^k)$$<br>\n",
    "$$\\hspace{8cm} g(x^{k+1})-g(x^k)\\approx G^{(k)}(x^{k+1}-x^k)\\quad\\text{when}\\;\\;\\nabla g(x^k)\\equiv G^(k)\\hspace{1.5cm}----\\;(6)$$<br>\n",
    "\n",
    "$\\qquad$As $B^{(k)}$ must be know before $d^{(k)};$ hence $x^{k+1}$ and $g^{k+1}$ can be calculated. It is not possible to get $B^{(k)}$ to satisfy eq. $(6)$ or $G^{(k)}=B^{(k)}.$ The update Hessian $B^{k+1}$ should approximate the curvature of $f(\\bar x)$ along the direction $(x^{k+1}-x^k).$ That is $G^{(k)}\\approx B^{(k+1)}.$ Then eq. $(6)$ rewritten as<br>\n",
    "$$\\hspace{8cm} g^{(k+1)}-g^{(k)}=B^{(k+1)}(x^{k+1}-x^k)\\hspace{6cm}----\\;(7)$$<br>\n",
    "\n",
    "Let $S^{(k)}=x^{k+1}-x^k=(x^k+\\alpha^kd^k)-x^k=\\alpha^kd^k\\;$ and $\\;Y^{(k)}=g^{(k+1)}-g^{(k)},$ then eq. $(7)$ giving $B^{k+1}$ to satisfy the quasi-Newton relation is<br>\n",
    "$$Y^{(k)}=B^{(k+1)}S^{(k)}$$<br>"
   ]
  },
  {
   "cell_type": "code",
   "execution_count": null,
   "metadata": {},
   "outputs": [],
   "source": []
  },
  {
   "cell_type": "markdown",
   "metadata": {},
   "source": [
    "###A \\quad B###<br>\n",
    "A$\\quad$B<br>\n",
    "\n",
    "###A \\hspace{5mm} B###<br>\n",
    "A$\\hspace{5mm}$B<br>\n",
    "\n",
    "###A \\;\\;\\;\\; B### 4\\;<br>\n",
    "A$\\;\\;\\;\\;$B<br>\n",
    "\n",
    "__------------------------------------------__\n",
    "\n",
    "###A \\qquad B###<br>\n",
    "A$\\qquad$B<br>\n",
    "###A \\quad\\quad B###<br>\n",
    "A$\\quad\\quad$B<br>\n",
    "\n",
    "###A \\hspace{10mm} B###<br>\n",
    "A$\\hspace{10mm}$B<br>\n",
    "\n",
    "###A \\;\\;\\;\\;\\;\\;\\;\\; B### 8\\;<br>\n",
    "A$\\;\\;\\;\\;\\;\\;\\;\\;$B<br>"
   ]
  },
  {
   "cell_type": "code",
   "execution_count": null,
   "metadata": {},
   "outputs": [],
   "source": []
  }
 ],
 "metadata": {
  "kernelspec": {
   "display_name": "Python 3",
   "language": "python",
   "name": "python3"
  },
  "language_info": {
   "codemirror_mode": {
    "name": "ipython",
    "version": 3
   },
   "file_extension": ".py",
   "mimetype": "text/x-python",
   "name": "python",
   "nbconvert_exporter": "python",
   "pygments_lexer": "ipython3",
   "version": "3.8.1"
  }
 },
 "nbformat": 4,
 "nbformat_minor": 2
}
