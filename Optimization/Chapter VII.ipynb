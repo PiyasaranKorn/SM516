{
 "cells": [
  {
   "cell_type": "markdown",
   "metadata": {},
   "source": [
    "$$\\LARGE\\text{Chapter VII}$$\n",
    "$$\\large\\text{Methods for nonlinearly constrained problem}$$<br>"
   ]
  },
  {
   "cell_type": "markdown",
   "metadata": {},
   "source": [
    "The general nonlinear programming problem<br><br>\n",
    "$$Min.\\;\\;\\;\\;\\;\\;\\;\\;f(\\bar x)\\;,\\;\\;\\bar x\\in\\mathbb R^{n}\\;\\;\\;\\;$$\n",
    "$$Subj.\\;to\\;\\;\\;\\;c_i(\\bar x)=0\\;,\\;\\;i\\in E$$\n",
    "$$\\;\\;\\;\\;\\;\\;\\;\\;\\;\\;\\;\\;\\;\\;\\;c_i(\\bar x)\\le0\\;,\\;\\;i\\in I$$"
   ]
  },
  {
   "cell_type": "markdown",
   "metadata": {},
   "source": [
    "$\\;\\;\\;\\;\\;$ where some or all of the function $c_i(\\bar x)$ may be nonlinear. Even the presence of a quadratic constraint can make the problem much more difficult than when there are only linear constraints. So, in this chapter we will use Penalty or Merit method solving the constrained nonlinear optimization problem."
   ]
  },
  {
   "cell_type": "markdown",
   "metadata": {},
   "source": [
    "### 7.1 Penalty Method\n",
    "$\\;\\;\\;\\;\\;$ Penalty method is procedure for approximating constrained optimization problem by uncomstrained problem. The basic idea is to place the constraint into the objective function via penalty parameters. The parameter is adjusted to force convergence of the unconstrained minimizer to a constrained stationary point when it is a large number.<br>\n",
    "$\\;\\;\\;\\;\\;$ To motivate penalty function consider the following example."
   ]
  },
  {
   "cell_type": "markdown",
   "metadata": {},
   "source": [
    "$\\underline{Ex.} \\quad\\quad Min.\\hspace{1.2cm} f(\\bar x)=x^2_1+x^2_2 \\hspace{4.3cm} ----\\;(1)$<br>\n",
    "$\\hspace{1.6cm} Subj.\\;to\\hspace{0.6cm}x_1+2x_2=2 \\hspace{4.7cm} ----\\;(2)$<br><br>\n",
    "$\\hspace{1cm}$Approximate penalty problem is the following constrained problem.<br><br>\n",
    "$\\hspace{2.5cm} Min.\\;\\;f(\\bar x,\\mu)=x^2_1+x^2_2+\\mu(x_1+2x_2-2)^2 \\hspace{0.5cm} ----\\;(3)$<br>\n",
    "$\\hspace{2.5cm} x_1,x_2\\in\\mathbb R$ where $\\mu>0$ is the large number<br><br>\n",
    "$\\hspace{1cm} \\underline{Note}$ here that the penalty function is<br>\n",
    "$\\hspace{2.5cm} P(x_1,x_2)=(x_1+2x_2-2)^2 \\hspace{3.4cm} ----\\;(4)$<br>\n",
    "$\\hspace{1cm}$If $(x_1,x_2)\\in\\mathbb R^{2}$ is a feasible pt. for the constrained problem then $P(x_1,x_2)=0$ and also note that a minimizer of the penalty problem<br>\n",
    "$\\hspace{1cm}$must have $(x_1+2x_2-2)^2$ close to zero"
   ]
  },
  {
   "cell_type": "markdown",
   "metadata": {},
   "source": [
    "We first solve the penalty problem. To find stationary pt.<br>\n",
    "Solve $\\hspace{0.8cm} \\nabla f(\\bar x)=0$<br>\n",
    "$\\hspace{1.9cm} 2x_1+2\\mu(x_1+2x_2-2)=0 \\hspace{4.1cm}----\\;(5)$<br>\n",
    "$\\hspace{1.9cm} 2x_2+4\\mu(x_1+2x_2-2)=0 \\hspace{4cm}----\\;(6)$<br><br>\n",
    "$\\left. \\begin{array}. \\text{From}\\;(5); \\hspace{0.5cm} \\mu(x_1+2x_2-2)=-x_1\\\\\n",
    "\\text{From}\\;(6); \\hspace{0.5cm} \\mu(x_1+2x_2-2)=-\\large\\frac{x_2}{2} \\end{array} \\right\\}\\;x_2=2x_1$<br><br>\n",
    "Substituting $x_2=2x_1$ into $(5)$"
   ]
  },
  {
   "cell_type": "code",
   "execution_count": null,
   "metadata": {},
   "outputs": [],
   "source": []
  },
  {
   "cell_type": "markdown",
   "metadata": {},
   "source": [
    "###A \\quad B###<br>\n",
    "$A \\quad B$<br>\n",
    "\n",
    "###A \\hspace{5mm} B###<br>\n",
    "$A \\hspace{5mm} B$"
   ]
  },
  {
   "cell_type": "code",
   "execution_count": null,
   "metadata": {},
   "outputs": [],
   "source": []
  },
  {
   "cell_type": "markdown",
   "metadata": {},
   "source": [
    "$f(n) = \\begin{cases} n/2 & \\quad \\text{if $n$ is even}\\\\\n",
    "-(n+1)/2 & \\quad \\text{if $n$ is odd} \\end{cases}$"
   ]
  },
  {
   "cell_type": "markdown",
   "metadata": {},
   "source": [
    "$f(n) = \\begin{cases} n/2 & \\quad \\text{if $n$ is even}\\\\\n",
    "-(n+1)/2 & \\quad \\text{if $n$ is odd}\\\\ \\end{cases}$"
   ]
  },
  {
   "cell_type": "code",
   "execution_count": null,
   "metadata": {},
   "outputs": [],
   "source": []
  },
  {
   "cell_type": "markdown",
   "metadata": {},
   "source": [
    "$$\n",
    "\\left[\n",
    "    \\begin{array}{rrr}\n",
    "    -1 & 0 & 1 \\\\\n",
    "    -2 & -3 & 4 \\\\\n",
    "    3 & 12 & 256 \\\\\n",
    "    \\end{array}\n",
    "\\right]\n",
    "\\left[\n",
    "    \\begin{array}{c}\n",
    "    x \\\\ y \\\\ z \\\\\n",
    "    \\end{array}\n",
    "\\right]\n",
    "=\n",
    "\\left[\n",
    "    \\begin{array}{c}\n",
    "    8 \\\\ 7 \\\\ 12 \\\\\n",
    "    \\end{array}\n",
    "\\right]\n",
    "\\tag{3}\n",
    "$$"
   ]
  },
  {
   "cell_type": "code",
   "execution_count": null,
   "metadata": {},
   "outputs": [],
   "source": []
  },
  {
   "cell_type": "markdown",
   "metadata": {},
   "source": [
    "`สุเมษ = 20`"
   ]
  },
  {
   "cell_type": "code",
   "execution_count": null,
   "metadata": {},
   "outputs": [],
   "source": []
  }
 ],
 "metadata": {
  "kernelspec": {
   "display_name": "Python 3",
   "language": "python",
   "name": "python3"
  },
  "language_info": {
   "codemirror_mode": {
    "name": "ipython",
    "version": 3
   },
   "file_extension": ".py",
   "mimetype": "text/x-python",
   "name": "python",
   "nbconvert_exporter": "python",
   "pygments_lexer": "ipython3",
   "version": "3.8.1"
  }
 },
 "nbformat": 4,
 "nbformat_minor": 2
}
